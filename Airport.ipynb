{
 "cells": [
  {
   "cell_type": "code",
   "execution_count": 1,
   "id": "initial_id",
   "metadata": {
    "collapsed": true,
    "ExecuteTime": {
     "end_time": "2023-08-10T22:57:42.840399100Z",
     "start_time": "2023-08-10T22:57:41.626711300Z"
    }
   },
   "outputs": [],
   "source": [
    "import pandas as pd"
   ]
  },
  {
   "cell_type": "code",
   "execution_count": 2,
   "outputs": [],
   "source": [
    "df = pd.read_csv('airport.csv')"
   ],
   "metadata": {
    "collapsed": false,
    "ExecuteTime": {
     "end_time": "2023-08-10T22:58:05.620783400Z",
     "start_time": "2023-08-10T22:58:01.071988600Z"
    }
   },
   "id": "495957e25a1b7e01"
  },
  {
   "cell_type": "code",
   "execution_count": 3,
   "outputs": [
    {
     "data": {
      "text/plain": "         id    ident           type  \\\n0     26555     VIDP  large_airport   \n1     26434     VABB  large_airport   \n2     26618     VOMM  large_airport   \n3     35145     VOBL  large_airport   \n4     26444     VAGO  large_airport   \n..      ...      ...            ...   \n332   46625  IN-0062  small_airport   \n333   46640  IN-0064  small_airport   \n334   46561  IN-0038       heliport   \n335  319166  IN-0101  small_airport   \n336   46557  IN-0034  small_airport   \n\n                                          name  latitude_deg  longitude_deg  \\\n0          Indira Gandhi International Airport     28.566500      77.103104   \n1    Chhatrapati Shivaji International Airport     19.088699      72.867897   \n2                Chennai International Airport     12.990005      80.169296   \n3             Kempegowda International Airport     13.197900      77.706299   \n4                    Goa International Airport     15.380800      73.831398   \n..                                         ...           ...            ...   \n332                            Shirpur Airport     21.323999      74.956734   \n333                           Umaria Air Field     23.532514      80.808220   \n334           Upper Tadong Indian Army Helipad     27.306717      88.599650   \n335                         Vanasthali Airport     26.407627      75.870128   \n336                        Vijay Nagar Airport     19.884100      73.840567   \n\n     elevation_ft iso_region   municipality  scheduled_service gps_code  \\\n0           777.0      IN-DL      New Delhi                  1     VIDP   \n1            39.0      IN-MM         Mumbai                  1     VABB   \n2            52.0      IN-TN        Chennai                  1     VOMM   \n3          3000.0      IN-KA      Bangalore                  1     VOBL   \n4           150.0      IN-GA  Vasco da Gama                  1     VOGO   \n..            ...        ...            ...                ...      ...   \n332           NaN      IN-MM        Shirpur                  0      NaN   \n333        1510.0      IN-MP         Umaria                  0      NaN   \n334           NaN      IN-SK   Upper Tadong                  0      NaN   \n335           NaN      IN-RJ     Vanasthali                  0      NaN   \n336           NaN      IN-MM    Vijay Nagar                  0      NaN   \n\n    iata_code local_code  year_built  year_tier Closed  \\\n0         DEL        NaN      1930.0     1950.0      n   \n1         BOM        NaN      1942.0     1950.0      n   \n2         MAA        NaN      1910.0     1950.0      n   \n3         BLR        NaN      2008.0     2010.0      n   \n4         GOI        NaN      1955.0     1955.0      n   \n..        ...        ...         ...        ...    ...   \n332       NaN        NaN         NaN        NaN      n   \n333       NaN        NaN         NaN        NaN      n   \n334       NaN        NaN         NaN        NaN      n   \n335       NaN        NaN         NaN        NaN      n   \n336       NaN        NaN         NaN        NaN      n   \n\n                                          home_link  \\\n0                    http://www.newdelhiairport.in/   \n1                               http://www.csia.in/   \n2                                               NaN   \n3    http://www.bengaluruairport.com/home/home.jspx   \n4                                               NaN   \n..                                              ...   \n332                                             NaN   \n333                                             NaN   \n334                                             NaN   \n335                                             NaN   \n336                                             NaN   \n\n                                        wikipedia_link  \\\n0    http://en.wikipedia.org/wiki/Indira_Gandhi_Int...   \n1    http://en.wikipedia.org/wiki/Chhatrapati_Shiva...   \n2    http://en.wikipedia.org/wiki/Chennai_Internati...   \n3    https://en.wikipedia.org/wiki/Kempegowda_Inter...   \n4         http://en.wikipedia.org/wiki/Dabolim_Airport   \n..                                                 ...   \n332                                                NaN   \n333                                                NaN   \n334                                                NaN   \n335                                                NaN   \n336                                                NaN   \n\n                                              keywords    score  \n0                              Palam Air Force Station    51475  \n1                  Bombay, Sahar International Airport  1014475  \n2                                                  NaN    51150  \n3                                                  NaN    51200  \n4    Goa Airport, Dabolim Navy Airbase, ________隷怄_...      875  \n..                                                 ...      ...  \n332                                     Shirpur, Dhule        0  \n333                                                NaN        0  \n334                                                NaN        0  \n335                                                NaN        0  \n336                                                NaN        0  \n\n[337 rows x 20 columns]",
      "text/html": "<div>\n<style scoped>\n    .dataframe tbody tr th:only-of-type {\n        vertical-align: middle;\n    }\n\n    .dataframe tbody tr th {\n        vertical-align: top;\n    }\n\n    .dataframe thead th {\n        text-align: right;\n    }\n</style>\n<table border=\"1\" class=\"dataframe\">\n  <thead>\n    <tr style=\"text-align: right;\">\n      <th></th>\n      <th>id</th>\n      <th>ident</th>\n      <th>type</th>\n      <th>name</th>\n      <th>latitude_deg</th>\n      <th>longitude_deg</th>\n      <th>elevation_ft</th>\n      <th>iso_region</th>\n      <th>municipality</th>\n      <th>scheduled_service</th>\n      <th>gps_code</th>\n      <th>iata_code</th>\n      <th>local_code</th>\n      <th>year_built</th>\n      <th>year_tier</th>\n      <th>Closed</th>\n      <th>home_link</th>\n      <th>wikipedia_link</th>\n      <th>keywords</th>\n      <th>score</th>\n    </tr>\n  </thead>\n  <tbody>\n    <tr>\n      <th>0</th>\n      <td>26555</td>\n      <td>VIDP</td>\n      <td>large_airport</td>\n      <td>Indira Gandhi International Airport</td>\n      <td>28.566500</td>\n      <td>77.103104</td>\n      <td>777.0</td>\n      <td>IN-DL</td>\n      <td>New Delhi</td>\n      <td>1</td>\n      <td>VIDP</td>\n      <td>DEL</td>\n      <td>NaN</td>\n      <td>1930.0</td>\n      <td>1950.0</td>\n      <td>n</td>\n      <td>http://www.newdelhiairport.in/</td>\n      <td>http://en.wikipedia.org/wiki/Indira_Gandhi_Int...</td>\n      <td>Palam Air Force Station</td>\n      <td>51475</td>\n    </tr>\n    <tr>\n      <th>1</th>\n      <td>26434</td>\n      <td>VABB</td>\n      <td>large_airport</td>\n      <td>Chhatrapati Shivaji International Airport</td>\n      <td>19.088699</td>\n      <td>72.867897</td>\n      <td>39.0</td>\n      <td>IN-MM</td>\n      <td>Mumbai</td>\n      <td>1</td>\n      <td>VABB</td>\n      <td>BOM</td>\n      <td>NaN</td>\n      <td>1942.0</td>\n      <td>1950.0</td>\n      <td>n</td>\n      <td>http://www.csia.in/</td>\n      <td>http://en.wikipedia.org/wiki/Chhatrapati_Shiva...</td>\n      <td>Bombay, Sahar International Airport</td>\n      <td>1014475</td>\n    </tr>\n    <tr>\n      <th>2</th>\n      <td>26618</td>\n      <td>VOMM</td>\n      <td>large_airport</td>\n      <td>Chennai International Airport</td>\n      <td>12.990005</td>\n      <td>80.169296</td>\n      <td>52.0</td>\n      <td>IN-TN</td>\n      <td>Chennai</td>\n      <td>1</td>\n      <td>VOMM</td>\n      <td>MAA</td>\n      <td>NaN</td>\n      <td>1910.0</td>\n      <td>1950.0</td>\n      <td>n</td>\n      <td>NaN</td>\n      <td>http://en.wikipedia.org/wiki/Chennai_Internati...</td>\n      <td>NaN</td>\n      <td>51150</td>\n    </tr>\n    <tr>\n      <th>3</th>\n      <td>35145</td>\n      <td>VOBL</td>\n      <td>large_airport</td>\n      <td>Kempegowda International Airport</td>\n      <td>13.197900</td>\n      <td>77.706299</td>\n      <td>3000.0</td>\n      <td>IN-KA</td>\n      <td>Bangalore</td>\n      <td>1</td>\n      <td>VOBL</td>\n      <td>BLR</td>\n      <td>NaN</td>\n      <td>2008.0</td>\n      <td>2010.0</td>\n      <td>n</td>\n      <td>http://www.bengaluruairport.com/home/home.jspx</td>\n      <td>https://en.wikipedia.org/wiki/Kempegowda_Inter...</td>\n      <td>NaN</td>\n      <td>51200</td>\n    </tr>\n    <tr>\n      <th>4</th>\n      <td>26444</td>\n      <td>VAGO</td>\n      <td>large_airport</td>\n      <td>Goa International Airport</td>\n      <td>15.380800</td>\n      <td>73.831398</td>\n      <td>150.0</td>\n      <td>IN-GA</td>\n      <td>Vasco da Gama</td>\n      <td>1</td>\n      <td>VOGO</td>\n      <td>GOI</td>\n      <td>NaN</td>\n      <td>1955.0</td>\n      <td>1955.0</td>\n      <td>n</td>\n      <td>NaN</td>\n      <td>http://en.wikipedia.org/wiki/Dabolim_Airport</td>\n      <td>Goa Airport, Dabolim Navy Airbase, ________隷怄_...</td>\n      <td>875</td>\n    </tr>\n    <tr>\n      <th>...</th>\n      <td>...</td>\n      <td>...</td>\n      <td>...</td>\n      <td>...</td>\n      <td>...</td>\n      <td>...</td>\n      <td>...</td>\n      <td>...</td>\n      <td>...</td>\n      <td>...</td>\n      <td>...</td>\n      <td>...</td>\n      <td>...</td>\n      <td>...</td>\n      <td>...</td>\n      <td>...</td>\n      <td>...</td>\n      <td>...</td>\n      <td>...</td>\n      <td>...</td>\n    </tr>\n    <tr>\n      <th>332</th>\n      <td>46625</td>\n      <td>IN-0062</td>\n      <td>small_airport</td>\n      <td>Shirpur Airport</td>\n      <td>21.323999</td>\n      <td>74.956734</td>\n      <td>NaN</td>\n      <td>IN-MM</td>\n      <td>Shirpur</td>\n      <td>0</td>\n      <td>NaN</td>\n      <td>NaN</td>\n      <td>NaN</td>\n      <td>NaN</td>\n      <td>NaN</td>\n      <td>n</td>\n      <td>NaN</td>\n      <td>NaN</td>\n      <td>Shirpur, Dhule</td>\n      <td>0</td>\n    </tr>\n    <tr>\n      <th>333</th>\n      <td>46640</td>\n      <td>IN-0064</td>\n      <td>small_airport</td>\n      <td>Umaria Air Field</td>\n      <td>23.532514</td>\n      <td>80.808220</td>\n      <td>1510.0</td>\n      <td>IN-MP</td>\n      <td>Umaria</td>\n      <td>0</td>\n      <td>NaN</td>\n      <td>NaN</td>\n      <td>NaN</td>\n      <td>NaN</td>\n      <td>NaN</td>\n      <td>n</td>\n      <td>NaN</td>\n      <td>NaN</td>\n      <td>NaN</td>\n      <td>0</td>\n    </tr>\n    <tr>\n      <th>334</th>\n      <td>46561</td>\n      <td>IN-0038</td>\n      <td>heliport</td>\n      <td>Upper Tadong Indian Army Helipad</td>\n      <td>27.306717</td>\n      <td>88.599650</td>\n      <td>NaN</td>\n      <td>IN-SK</td>\n      <td>Upper Tadong</td>\n      <td>0</td>\n      <td>NaN</td>\n      <td>NaN</td>\n      <td>NaN</td>\n      <td>NaN</td>\n      <td>NaN</td>\n      <td>n</td>\n      <td>NaN</td>\n      <td>NaN</td>\n      <td>NaN</td>\n      <td>0</td>\n    </tr>\n    <tr>\n      <th>335</th>\n      <td>319166</td>\n      <td>IN-0101</td>\n      <td>small_airport</td>\n      <td>Vanasthali Airport</td>\n      <td>26.407627</td>\n      <td>75.870128</td>\n      <td>NaN</td>\n      <td>IN-RJ</td>\n      <td>Vanasthali</td>\n      <td>0</td>\n      <td>NaN</td>\n      <td>NaN</td>\n      <td>NaN</td>\n      <td>NaN</td>\n      <td>NaN</td>\n      <td>n</td>\n      <td>NaN</td>\n      <td>NaN</td>\n      <td>NaN</td>\n      <td>0</td>\n    </tr>\n    <tr>\n      <th>336</th>\n      <td>46557</td>\n      <td>IN-0034</td>\n      <td>small_airport</td>\n      <td>Vijay Nagar Airport</td>\n      <td>19.884100</td>\n      <td>73.840567</td>\n      <td>NaN</td>\n      <td>IN-MM</td>\n      <td>Vijay Nagar</td>\n      <td>0</td>\n      <td>NaN</td>\n      <td>NaN</td>\n      <td>NaN</td>\n      <td>NaN</td>\n      <td>NaN</td>\n      <td>n</td>\n      <td>NaN</td>\n      <td>NaN</td>\n      <td>NaN</td>\n      <td>0</td>\n    </tr>\n  </tbody>\n</table>\n<p>337 rows × 20 columns</p>\n</div>"
     },
     "execution_count": 3,
     "metadata": {},
     "output_type": "execute_result"
    }
   ],
   "source": [
    "df"
   ],
   "metadata": {
    "collapsed": false,
    "ExecuteTime": {
     "end_time": "2023-08-10T22:58:12.194966100Z",
     "start_time": "2023-08-10T22:58:12.073390700Z"
    }
   },
   "id": "a01ab05e5d51ee91"
  },
  {
   "cell_type": "code",
   "execution_count": 5,
   "outputs": [
    {
     "name": "stdout",
     "output_type": "stream",
     "text": [
      "      id ident            type  \\\n",
      "0  26555  VIDP   large_airport   \n",
      "1  26434  VABB   large_airport   \n",
      "2  26618  VOMM   large_airport   \n",
      "3  35145  VOBL   large_airport   \n",
      "4  26444  VAGO   large_airport   \n",
      "5  26609  VOCI   large_airport   \n",
      "6  26496  VECC   large_airport   \n",
      "7  35141  VOHS   large_airport   \n",
      "8  26629  VOTV   large_airport   \n",
      "9  26563  VIJP  medium_airport   \n",
      "\n",
      "                                                name  latitude_deg  \\\n",
      "0                Indira Gandhi International Airport     28.566500   \n",
      "1          Chhatrapati Shivaji International Airport     19.088699   \n",
      "2                      Chennai International Airport     12.990005   \n",
      "3                   Kempegowda International Airport     13.197900   \n",
      "4                          Goa International Airport     15.380800   \n",
      "5                       Cochin International Airport     10.152000   \n",
      "6  Netaji Subhash Chandra Bose International Airport     22.654699   \n",
      "7                 Rajiv Gandhi International Airport     17.231318   \n",
      "8                   Trivandrum International Airport      8.482120   \n",
      "9                       Jaipur International Airport     26.824200   \n",
      "\n",
      "   longitude_deg  elevation_ft iso_region        municipality  \\\n",
      "0      77.103104         777.0      IN-DL           New Delhi   \n",
      "1      72.867897          39.0      IN-MM              Mumbai   \n",
      "2      80.169296          52.0      IN-TN             Chennai   \n",
      "3      77.706299        3000.0      IN-KA           Bangalore   \n",
      "4      73.831398         150.0      IN-GA       Vasco da Gama   \n",
      "5      76.401901          30.0      IN-KL               Kochi   \n",
      "6      88.446701          16.0      IN-WB             Kolkata   \n",
      "7      78.429855        2024.0      IN-TG           Hyderabad   \n",
      "8      76.920097          15.0      IN-KL  Thiruvananthapuram   \n",
      "9      75.812202        1263.0      IN-RJ              Jaipur   \n",
      "\n",
      "   scheduled_service gps_code iata_code local_code  year_built  year_tier  \\\n",
      "0                  1     VIDP       DEL        NaN      1930.0     1950.0   \n",
      "1                  1     VABB       BOM        NaN      1942.0     1950.0   \n",
      "2                  1     VOMM       MAA        NaN      1910.0     1950.0   \n",
      "3                  1     VOBL       BLR        NaN      2008.0     2010.0   \n",
      "4                  1     VOGO       GOI        NaN      1955.0     1955.0   \n",
      "5                  1     VOCI       COK        NaN      1999.0     2000.0   \n",
      "6                  1     VECC       CCU        NaN      1929.0     1950.0   \n",
      "7                  1     VOHS       HYD        NaN      2008.0     2010.0   \n",
      "8                  1     VOTV       TRV        NaN      1932.0     1950.0   \n",
      "9                  1     VIJP       JAI        NaN         NaN        NaN   \n",
      "\n",
      "  Closed                                          home_link  \\\n",
      "0      n                     http://www.newdelhiairport.in/   \n",
      "1      n                                http://www.csia.in/   \n",
      "2      n                                                NaN   \n",
      "3      n     http://www.bengaluruairport.com/home/home.jspx   \n",
      "4      n                                                NaN   \n",
      "5      n                     http://www.cochin-airport.com/   \n",
      "6      n                                                NaN   \n",
      "7      n                  http://www.shamshabadairport.com/   \n",
      "8      n                                                NaN   \n",
      "9      n  http://aai.aero/allAirports/jaipur_generalinfo...   \n",
      "\n",
      "                                      wikipedia_link  \\\n",
      "0  http://en.wikipedia.org/wiki/Indira_Gandhi_Int...   \n",
      "1  http://en.wikipedia.org/wiki/Chhatrapati_Shiva...   \n",
      "2  http://en.wikipedia.org/wiki/Chennai_Internati...   \n",
      "3  https://en.wikipedia.org/wiki/Kempegowda_Inter...   \n",
      "4       http://en.wikipedia.org/wiki/Dabolim_Airport   \n",
      "5  http://en.wikipedia.org/wiki/Cochin_Internatio...   \n",
      "6  http://en.wikipedia.org/wiki/Netaji_Subhash_Ch...   \n",
      "7  http://en.wikipedia.org/wiki/Rajiv_Gandhi_Inte...   \n",
      "8  http://en.wikipedia.org/wiki/Trivandrum_Intern...   \n",
      "9        http://en.wikipedia.org/wiki/Jaipur_Airport   \n",
      "\n",
      "                                            keywords    score  \n",
      "0                            Palam Air Force Station    51475  \n",
      "1                Bombay, Sahar International Airport  1014475  \n",
      "2                                                NaN    51150  \n",
      "3                                                NaN    51200  \n",
      "4  Goa Airport, Dabolim Navy Airbase, ________隷怄_...      875  \n",
      "5                                             Cochin     1000  \n",
      "6      Calcutta, Kolkatta, Dum Dum Air Force Station     1200  \n",
      "7                              Shamshabad, Hyderabad     1200  \n",
      "8  Thiruvananthapuram International Airport, Triv...     1050  \n",
      "9                                                NaN     1050  \n"
     ]
    }
   ],
   "source": [
    "print(df.head(10))"
   ],
   "metadata": {
    "collapsed": false,
    "ExecuteTime": {
     "end_time": "2023-08-10T23:00:06.658964400Z",
     "start_time": "2023-08-10T23:00:02.064159Z"
    }
   },
   "id": "ce91593f4e284838"
  },
  {
   "cell_type": "code",
   "execution_count": 6,
   "outputs": [
    {
     "name": "stdout",
     "output_type": "stream",
     "text": [
      "         id    ident           type                              name  \\\n",
      "327   46515  IN-0026  small_airport                     Korba Airport   \n",
      "328   46555  IN-0032       heliport                     Saiha Helipad   \n",
      "329   46558  IN-0035       heliport  Sevoke Road Indian Army Heliport   \n",
      "330   46553  IN-0030       heliport                  Serchhip Helipad   \n",
      "331   46565  IN-0042       heliport      Shillong Indian Army Helipad   \n",
      "332   46625  IN-0062  small_airport                   Shirpur Airport   \n",
      "333   46640  IN-0064  small_airport                  Umaria Air Field   \n",
      "334   46561  IN-0038       heliport  Upper Tadong Indian Army Helipad   \n",
      "335  319166  IN-0101  small_airport                Vanasthali Airport   \n",
      "336   46557  IN-0034  small_airport               Vijay Nagar Airport   \n",
      "\n",
      "     latitude_deg  longitude_deg  elevation_ft iso_region  municipality  \\\n",
      "327     22.414167      82.719444        1200.0      IN-CT       Rumgara   \n",
      "328     22.488583      92.986950           NaN      IN-MZ         Saiha   \n",
      "329     26.774400      88.452317         472.0      IN-WB      Salugara   \n",
      "330     23.328750      92.856067           NaN      IN-MZ      Serchhip   \n",
      "331     25.544250      91.881717           NaN      IN-ML      Shillong   \n",
      "332     21.323999      74.956734           NaN      IN-MM       Shirpur   \n",
      "333     23.532514      80.808220        1510.0      IN-MP        Umaria   \n",
      "334     27.306717      88.599650           NaN      IN-SK  Upper Tadong   \n",
      "335     26.407627      75.870128           NaN      IN-RJ    Vanasthali   \n",
      "336     19.884100      73.840567           NaN      IN-MM   Vijay Nagar   \n",
      "\n",
      "     scheduled_service gps_code iata_code local_code  year_built  year_tier  \\\n",
      "327                  0      NaN       NaN        NaN         NaN        NaN   \n",
      "328                  1      NaN       NaN        NaN         NaN        NaN   \n",
      "329                  0      NaN       NaN        NaN         NaN        NaN   \n",
      "330                  0      NaN       NaN        NaN         NaN        NaN   \n",
      "331                  0      NaN       NaN        NaN         NaN        NaN   \n",
      "332                  0      NaN       NaN        NaN         NaN        NaN   \n",
      "333                  0      NaN       NaN        NaN         NaN        NaN   \n",
      "334                  0      NaN       NaN        NaN         NaN        NaN   \n",
      "335                  0      NaN       NaN        NaN         NaN        NaN   \n",
      "336                  0      NaN       NaN        NaN         NaN        NaN   \n",
      "\n",
      "    Closed home_link wikipedia_link        keywords  score  \n",
      "327      n       NaN            NaN             NaN      0  \n",
      "328      n       NaN            NaN             NaN      0  \n",
      "329      n       NaN            NaN             NaN      0  \n",
      "330      n       NaN            NaN             NaN      0  \n",
      "331      n       NaN            NaN             NaN      0  \n",
      "332      n       NaN            NaN  Shirpur, Dhule      0  \n",
      "333      n       NaN            NaN             NaN      0  \n",
      "334      n       NaN            NaN             NaN      0  \n",
      "335      n       NaN            NaN             NaN      0  \n",
      "336      n       NaN            NaN             NaN      0  \n"
     ]
    }
   ],
   "source": [
    "print(df.tail(10))"
   ],
   "metadata": {
    "collapsed": false,
    "ExecuteTime": {
     "end_time": "2023-08-10T23:00:28.988581400Z",
     "start_time": "2023-08-10T23:00:24.425813400Z"
    }
   },
   "id": "3116b9ecc7262b58"
  },
  {
   "cell_type": "code",
   "execution_count": 7,
   "outputs": [
    {
     "name": "stdout",
     "output_type": "stream",
     "text": [
      "<class 'pandas.core.frame.DataFrame'>\n",
      "RangeIndex: 337 entries, 0 to 336\n",
      "Data columns (total 20 columns):\n",
      " #   Column             Non-Null Count  Dtype  \n",
      "---  ------             --------------  -----  \n",
      " 0   id                 337 non-null    int64  \n",
      " 1   ident              337 non-null    object \n",
      " 2   type               337 non-null    object \n",
      " 3   name               337 non-null    object \n",
      " 4   latitude_deg       337 non-null    float64\n",
      " 5   longitude_deg      337 non-null    float64\n",
      " 6   elevation_ft       262 non-null    float64\n",
      " 7   iso_region         337 non-null    object \n",
      " 8   municipality       170 non-null    object \n",
      " 9   scheduled_service  337 non-null    int64  \n",
      " 10  gps_code           232 non-null    object \n",
      " 11  iata_code          132 non-null    object \n",
      " 12  local_code         58 non-null     object \n",
      " 13  year_built         89 non-null     float64\n",
      " 14  year_tier          89 non-null     float64\n",
      " 15  Closed             337 non-null    object \n",
      " 16  home_link          44 non-null     object \n",
      " 17  wikipedia_link     134 non-null    object \n",
      " 18  keywords           91 non-null     object \n",
      " 19  score              337 non-null    int64  \n",
      "dtypes: float64(5), int64(3), object(12)\n",
      "memory usage: 52.8+ KB\n",
      "None\n"
     ]
    }
   ],
   "source": [
    "print(df.info())"
   ],
   "metadata": {
    "collapsed": false,
    "ExecuteTime": {
     "end_time": "2023-08-10T23:00:49.363410Z",
     "start_time": "2023-08-10T23:00:49.336069600Z"
    }
   },
   "id": "6c27853499fa897d"
  },
  {
   "cell_type": "code",
   "execution_count": 8,
   "outputs": [
    {
     "name": "stdout",
     "output_type": "stream",
     "text": [
      "                  id  latitude_deg  longitude_deg  elevation_ft  \\\n",
      "count     337.000000    337.000000     337.000000    262.000000   \n",
      "mean    62662.946588     22.826837      80.861196   1448.362595   \n",
      "std     94991.519843      6.128305       8.189304   2454.905728   \n",
      "min      3283.000000      0.000000       0.000000      5.000000   \n",
      "25%     26457.000000     19.719444      75.845596    310.250000   \n",
      "50%     26578.000000     23.631500      78.971497    760.000000   \n",
      "75%     46481.000000     26.888700      86.706944   1684.750000   \n",
      "max    325010.000000     35.500000      97.019661  22000.000000   \n",
      "\n",
      "       scheduled_service   year_built    year_tier         score  \n",
      "count         337.000000    89.000000    89.000000  3.370000e+02  \n",
      "mean            0.249258  1962.033708  1968.494382  3.685760e+03  \n",
      "std             0.433227    27.391708    22.777642  5.543450e+04  \n",
      "min             0.000000  1910.000000  1950.000000  0.000000e+00  \n",
      "25%             0.000000  1942.000000  1950.000000  0.000000e+00  \n",
      "50%             0.000000  1951.000000  1955.000000  5.000000e+01  \n",
      "75%             0.000000  1987.000000  1990.000000  2.500000e+02  \n",
      "max             1.000000  2018.000000  2018.000000  1.014475e+06  \n"
     ]
    }
   ],
   "source": [
    "print(df.describe())"
   ],
   "metadata": {
    "collapsed": false,
    "ExecuteTime": {
     "end_time": "2023-08-10T23:01:28.804311900Z",
     "start_time": "2023-08-10T23:01:28.747381700Z"
    }
   },
   "id": "f4e28947b4e5c2eb"
  },
  {
   "cell_type": "code",
   "execution_count": 9,
   "outputs": [
    {
     "name": "stdout",
     "output_type": "stream",
     "text": [
      "Index(['id', 'ident', 'type', 'name', 'latitude_deg', 'longitude_deg',\n",
      "       'elevation_ft', 'iso_region', 'municipality', 'scheduled_service',\n",
      "       'gps_code', 'iata_code', 'local_code', 'year_built', 'year_tier',\n",
      "       'Closed', 'home_link', 'wikipedia_link', 'keywords', 'score'],\n",
      "      dtype='object')\n"
     ]
    }
   ],
   "source": [
    "print(df.columns)"
   ],
   "metadata": {
    "collapsed": false,
    "ExecuteTime": {
     "end_time": "2023-08-10T23:02:18.248884100Z",
     "start_time": "2023-08-10T23:02:13.667889400Z"
    }
   },
   "id": "cbf372e702d2e9fd"
  },
  {
   "cell_type": "code",
   "execution_count": 10,
   "outputs": [
    {
     "name": "stdout",
     "output_type": "stream",
     "text": [
      "RangeIndex(start=0, stop=337, step=1)\n"
     ]
    }
   ],
   "source": [
    "print(df.index)"
   ],
   "metadata": {
    "collapsed": false,
    "ExecuteTime": {
     "end_time": "2023-08-10T23:02:23.141964500Z",
     "start_time": "2023-08-10T23:02:23.114102200Z"
    }
   },
   "id": "efeef42f6c93a1d5"
  },
  {
   "cell_type": "code",
   "execution_count": 11,
   "outputs": [
    {
     "name": "stdout",
     "output_type": "stream",
     "text": [
      "(337, 20)\n"
     ]
    }
   ],
   "source": [
    "print(df.shape)"
   ],
   "metadata": {
    "collapsed": false,
    "ExecuteTime": {
     "end_time": "2023-08-10T23:02:27.899479100Z",
     "start_time": "2023-08-10T23:02:27.872014900Z"
    }
   },
   "id": "a35490d102f6d7b4"
  },
  {
   "cell_type": "code",
   "execution_count": 14,
   "outputs": [
    {
     "name": "stdout",
     "output_type": "stream",
     "text": [
      "0       26555\n",
      "1       26434\n",
      "2       26618\n",
      "3       35145\n",
      "4       26444\n",
      "        ...  \n",
      "332     46625\n",
      "333     46640\n",
      "334     46561\n",
      "335    319166\n",
      "336     46557\n",
      "Name: id, Length: 337, dtype: int64\n"
     ]
    }
   ],
   "source": [
    "print(df['id'])"
   ],
   "metadata": {
    "collapsed": false,
    "ExecuteTime": {
     "end_time": "2023-08-10T23:02:57.804869900Z",
     "start_time": "2023-08-10T23:02:57.785992400Z"
    }
   },
   "id": "ae79ff874450935a"
  },
  {
   "cell_type": "code",
   "execution_count": 15,
   "outputs": [
    {
     "name": "stdout",
     "output_type": "stream",
     "text": [
      "                         id  latitude_deg  longitude_deg  elevation_ft  \\\n",
      "id                 1.000000      0.016122      -0.007688      0.022172   \n",
      "latitude_deg       0.016122      1.000000       0.222361      0.354414   \n",
      "longitude_deg     -0.007688      0.222361       1.000000     -0.069217   \n",
      "elevation_ft       0.022172      0.354414      -0.069217      1.000000   \n",
      "scheduled_service -0.116698     -0.140416      -0.098084     -0.115677   \n",
      "year_built         0.298938      0.018464       0.030762      0.225723   \n",
      "year_tier          0.310198      0.001288       0.022084      0.201100   \n",
      "score             -0.025205     -0.039770      -0.056147     -0.036823   \n",
      "\n",
      "                   scheduled_service  year_built  year_tier     score  \n",
      "id                         -0.116698    0.298938   0.310198 -0.025205  \n",
      "latitude_deg               -0.140416    0.018464   0.001288 -0.039770  \n",
      "longitude_deg              -0.098084    0.030762   0.022084 -0.056147  \n",
      "elevation_ft               -0.115677    0.225723   0.201100 -0.036823  \n",
      "scheduled_service           1.000000    0.095874   0.130259  0.113399  \n",
      "year_built                  0.095874    1.000000   0.968503 -0.085831  \n",
      "year_tier                   0.130259    0.968503   1.000000 -0.085875  \n",
      "score                       0.113399   -0.085831  -0.085875  1.000000  \n"
     ]
    },
    {
     "name": "stderr",
     "output_type": "stream",
     "text": [
      "C:\\Users\\hamza\\AppData\\Local\\Temp\\ipykernel_16180\\308504422.py:1: FutureWarning: The default value of numeric_only in DataFrame.corr is deprecated. In a future version, it will default to False. Select only valid columns or specify the value of numeric_only to silence this warning.\n",
      "  print(df.corr())\n"
     ]
    }
   ],
   "source": [
    "print(df.corr())"
   ],
   "metadata": {
    "collapsed": false,
    "ExecuteTime": {
     "end_time": "2023-08-10T23:03:10.046162900Z",
     "start_time": "2023-08-10T23:03:09.812210200Z"
    }
   },
   "id": "4e949d5445b5b417"
  },
  {
   "cell_type": "code",
   "execution_count": 16,
   "outputs": [
    {
     "name": "stdout",
     "output_type": "stream",
     "text": [
      "id                   1.000000\n",
      "latitude_deg         0.016122\n",
      "longitude_deg       -0.007688\n",
      "elevation_ft         0.022172\n",
      "scheduled_service   -0.116698\n",
      "year_built           0.298938\n",
      "year_tier            0.310198\n",
      "score               -0.025205\n",
      "dtype: float64\n"
     ]
    },
    {
     "name": "stderr",
     "output_type": "stream",
     "text": [
      "C:\\Users\\hamza\\AppData\\Local\\Temp\\ipykernel_16180\\1354376650.py:1: FutureWarning: The default value of numeric_only in DataFrame.corrwith is deprecated. In a future version, it will default to False. Select only valid columns or specify the value of numeric_only to silence this warning.\n",
      "  print(df.corrwith(df['id']))\n"
     ]
    }
   ],
   "source": [
    "print(df.corrwith(df['id']))"
   ],
   "metadata": {
    "collapsed": false,
    "ExecuteTime": {
     "end_time": "2023-08-10T23:04:04.110505900Z",
     "start_time": "2023-08-10T23:03:59.517302Z"
    }
   },
   "id": "d7cfa324ee6cdb84"
  },
  {
   "cell_type": "code",
   "execution_count": 18,
   "outputs": [
    {
     "name": "stdout",
     "output_type": "stream",
     "text": [
      "0.016121765129537453\n"
     ]
    }
   ],
   "source": [
    "print(df['id'].corr(df['latitude_deg']))"
   ],
   "metadata": {
    "collapsed": false,
    "ExecuteTime": {
     "end_time": "2023-08-10T23:04:23.944193400Z",
     "start_time": "2023-08-10T23:04:23.913180900Z"
    }
   },
   "id": "249f6421cae28e0"
  },
  {
   "cell_type": "code",
   "execution_count": 19,
   "outputs": [
    {
     "name": "stdout",
     "output_type": "stream",
     "text": [
      "-0.00768789691223267\n"
     ]
    }
   ],
   "source": [
    "print(df['id'].corr(df['longitude_deg']))"
   ],
   "metadata": {
    "collapsed": false,
    "ExecuteTime": {
     "end_time": "2023-08-10T23:04:29.858186700Z",
     "start_time": "2023-08-10T23:04:29.821848200Z"
    }
   },
   "id": "605dd85158e6f6c6"
  },
  {
   "cell_type": "code",
   "execution_count": 20,
   "outputs": [
    {
     "name": "stdout",
     "output_type": "stream",
     "text": [
      "0.022171826231620957\n"
     ]
    }
   ],
   "source": [
    "print(df['id'].corr(df['elevation_ft']))"
   ],
   "metadata": {
    "collapsed": false,
    "ExecuteTime": {
     "end_time": "2023-08-10T23:04:33.851609100Z",
     "start_time": "2023-08-10T23:04:33.742840900Z"
    }
   },
   "id": "d62bf391e72a05a3"
  },
  {
   "cell_type": "code",
   "execution_count": null,
   "outputs": [],
   "source": [],
   "metadata": {
    "collapsed": false
   },
   "id": "2f6046e61f437faf"
  }
 ],
 "metadata": {
  "kernelspec": {
   "display_name": "Python 3",
   "language": "python",
   "name": "python3"
  },
  "language_info": {
   "codemirror_mode": {
    "name": "ipython",
    "version": 2
   },
   "file_extension": ".py",
   "mimetype": "text/x-python",
   "name": "python",
   "nbconvert_exporter": "python",
   "pygments_lexer": "ipython2",
   "version": "2.7.6"
  }
 },
 "nbformat": 4,
 "nbformat_minor": 5
}
